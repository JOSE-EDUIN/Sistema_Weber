{
 "cells": [
  {
   "cell_type": "code",
   "execution_count": null,
   "metadata": {},
   "outputs": [],
   "source": [
    "from Base_datos_scrapper import *\n",
    "from extraccion_dof import *\n",
    "# from extractor import *\n",
    "from tkinter import *\n",
    "import tkinter as tk\n",
    "\n",
    "\n",
    "# Configuración de la raíz\n",
    "root = tk.Tk()\n",
    "root.geometry('700x500')\n",
    "root.resizable(width=0, height=0)\n",
    "# Se crea la barra de menú\n",
    "menubar = Menu(root)\n",
    "root.config(menu=menubar)\n",
    "# cremos los menus \n",
    "filemenu = Menu(menubar, tearoff=0)\n",
    "# Crear comandos de los menus \n",
    "filemenu.add_command(label=\"Configuración\")\n",
    "filemenu.add_command(label=\"Monitoreo\")\n",
    "filemenu.add_separator()\n",
    "filemenu.add_command(label=\"Salir\", command=root.quit)\n",
    "\n",
    "helpmenu = Menu(menubar, tearoff=0)\n",
    "helpmenu.add_command(label=\"Ayuda\")\n",
    "helpmenu.add_separator()\n",
    "helpmenu.add_command(label=\"Acerca de...\")\n",
    "# Agregamos los menus a la barra de menus \n",
    "menubar.add_cascade(label=\"Opciones\", menu=filemenu)\n",
    "menubar.add_cascade(label=\"Ayuda\", menu=helpmenu)\n",
    "\n",
    "#  Obtenemos el largo y  ancho de la pantalla\n",
    "wtotal = root.winfo_screenwidth()\n",
    "htotal = root.winfo_screenheight()\n",
    "\n",
    "#  Guardamos el largo y alto de la ventana\n",
    "wventana = 700\n",
    "hventana = 500\n",
    "\n",
    "#  Aplicamos la siguiente formula para calcular donde debería posicionarse\n",
    "pwidth = round(wtotal/2-wventana/2)\n",
    "pheight = round(htotal/2-hventana/2)\n",
    "\n",
    "#  Se lo aplicamos a la geometría de la ventana\n",
    "root.geometry(str(wventana)+\"x\"+str(hventana)+\"+\"+str(pwidth)+\"+\"+str(pheight))\n",
    "# Finalmente bucle de la aplicación\n",
    "\n",
    "# creamos boton de ejecutar \n",
    "btn_ejecutar = Button(root, text=\"Ejecutar Servicio\", command=lambda:[extraccion.acceso_web(), conexion_bd.start_connection(), extraccion.buscar_69b(), extraccion.obtener_link(), extraccion.validar_pub_nva(), extraccion.notificacion_correo(), conexion_bd.close_connection()])\n",
    "btn_ejecutar.place(x=300, y=200)\n",
    "root.mainloop()"
   ]
  },
  {
   "cell_type": "code",
   "execution_count": null,
   "metadata": {},
   "outputs": [],
   "source": [
    "\n"
   ]
  }
 ],
 "metadata": {
  "kernelspec": {
   "display_name": "Python 3.10.1 64-bit",
   "language": "python",
   "name": "python3"
  },
  "language_info": {
   "codemirror_mode": {
    "name": "ipython",
    "version": 3
   },
   "file_extension": ".py",
   "mimetype": "text/x-python",
   "name": "python",
   "nbconvert_exporter": "python",
   "pygments_lexer": "ipython3",
   "version": "3.10.1"
  },
  "orig_nbformat": 4,
  "vscode": {
   "interpreter": {
    "hash": "b7fa4680f5fc3fefbaaa5c79f8e6a1b6da0e4a881b17ae7721395e4b267af9ba"
   }
  }
 },
 "nbformat": 4,
 "nbformat_minor": 2
}
