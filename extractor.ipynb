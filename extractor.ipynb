{
 "cells": [
  {
   "cell_type": "code",
   "execution_count": null,
   "metadata": {},
   "outputs": [],
   "source": [
    "#Establecer conexion con la página\n",
    "import urllib.request\n",
    "#Leer y decodificar la página\n",
    "datos = urllib.request.urlopen('https://www.dof.gob.mx/index_111.php?year=2022&month=08&day=30#gsc.tab=0').read().decode()"
   ]
  },
  {
   "cell_type": "code",
   "execution_count": null,
   "metadata": {},
   "outputs": [],
   "source": [
    "datos"
   ]
  },
  {
   "cell_type": "code",
   "execution_count": null,
   "metadata": {},
   "outputs": [],
   "source": [
    "#Instalar libreria\n",
    "import sys\n",
    "!{sys.executable} -m pip install mysql-connector-python==8.0.29\n",
    "\n",
    "#librerias: requests, bs4, mysql-connector-python, lxml"
   ]
  },
  {
   "cell_type": "code",
   "execution_count": 2,
   "metadata": {},
   "outputs": [
    {
     "name": "stdout",
     "output_type": "stream",
     "text": [
      "[]\n"
     ]
    }
   ],
   "source": [
    "#Transformamos todo el HTML en un objeto de Beautiful Soap\n",
    "from msilib.schema import Property\n",
    "from bs4 import BeautifulSoup\n",
    "import re \n",
    "soup = BeautifulSoup(datos, 'lxml')\n",
    "#Búsqueda de todas las etiquetas tr\n",
    "box = soup.find('tr',id=\"trcontent\")\n",
    "#Búsqueda de las etiquetas a\n",
    "resultado = box.find_all('a',class_='enlaces')\n",
    "#Búsqueda de la palabra clave\n",
    "palabra = re.findall(r'69-B', str(resultado))\n",
    "print(palabra)\n",
    "\n",
    "\n",
    "#Contar elementos\n",
    "transforma = \", \".join(map(str, palabra))\n",
    "conteo = len(transforma.split())\n",
    "#print(\"Hay \" + str(conteo) + \" palabras encontradas.\")\n"
   ]
  },
  {
   "cell_type": "code",
   "execution_count": 3,
   "metadata": {},
   "outputs": [
    {
     "name": "stdout",
     "output_type": "stream",
     "text": [
      "[]\n"
     ]
    }
   ],
   "source": [
    "\n",
    "#Recupera todos los link de las publicaciones y las almacena en una lista -links[]\n",
    "lst_links =[]\n",
    "for ref in resultado:\n",
    "      tag=ref.get('href')+'\\n'\n",
    "      transforma=\"\".join(map(str, tag))\n",
    "      link=[transforma.split('\\n')]\n",
    "      lst_links.append(link)\n",
    "      \n",
    "\n",
    "#Resguarda especialmente los links en donde se encuentre la palabra 69-B en una lista -lst_69B[]\n",
    "lst_69B =[]\n",
    "x=0\n",
    "for Pos_info in resultado:\n",
    "    \n",
    "    encuentra = re.findall(r'69-B', str(Pos_info))\n",
    "    if bool(encuentra)==True:\n",
    "        #print(encuentra)\n",
    "        #print(resultado[x])\n",
    "        #print(links[x])\n",
    "        PosLink = lst_links[x]\n",
    "        lst_69B.append(PosLink)\n",
    "    \n",
    "    x+=1\n",
    "print (lst_69B)\n"
   ]
  },
  {
   "cell_type": "code",
   "execution_count": 4,
   "metadata": {},
   "outputs": [
    {
     "name": "stdout",
     "output_type": "stream",
     "text": [
      "\n"
     ]
    }
   ],
   "source": [
    "#Elimina carcateres innecesarios de los links y las concatena con el dominio de la pagina \n",
    "lst_link_dominio=[]\n",
    "for Textlink in lst_69B:\n",
    "  cadena = Textlink[0]\n",
    "  characters = \"[]'\"\n",
    "\n",
    "  cadena = ''.join( x for x in cadena if x not in characters)\n",
    "  cal='https://www.dof.gob.mx'+cadena\n",
    "  lst_link_dominio.append(cal)\n",
    "  # print(cal)\n",
    "\n",
    "# print(lst_link_dominio)\n",
    "str_links = \", \".join(lst_link_dominio)\n",
    "print(str_links)"
   ]
  },
  {
   "cell_type": "code",
   "execution_count": 5,
   "metadata": {},
   "outputs": [
    {
     "name": "stdout",
     "output_type": "stream",
     "text": [
      "Correo electronico enviado con exito\n"
     ]
    }
   ],
   "source": [
    "#importamos para envios de correos \n",
    "import smtplib \n",
    "from email.message import EmailMessage \n",
    "\n",
    "if bool(palabra) == True:\n",
    "    asunto_correo = \"Publicaciones del Diario Oficial de la Federación\" \n",
    "    #correo_receptor = \"frester_dui98@hotmail.com\" \n",
    "    correo_remitente = \"jnahuat@nasa.com.mx\" \n",
    "    correo_receptor = \"frester_dui98@hotmail.com\"\n",
    "    email_smtp = \"smtp.office365.com\" \n",
    "    contrasena_correo = \"stckrhhmhjxfqwgl\" #contraseña aplicacion Nasa\n",
    "    #email_password = \"poykyzptkdiihjhe\" #contraseña aplicacion hotmail frester\n",
    " \n",
    "\n",
    "    \n",
    "    mensaje = EmailMessage() \n",
    "\n",
    "    # Configuracion de los titulos \n",
    "    mensaje['Subject'] = asunto_correo \n",
    "    mensaje['From'] = correo_remitente \n",
    "    mensaje['To'] = correo_receptor\n",
    "\n",
    "    # Mensaje de texto que se enviará\n",
    "    mensaje.set_content(\"Se ha identificado una nueva publicación referente al artículo 69-B: \\n\"+str_links) \n",
    "\n",
    "    try:\n",
    "        # smtp servidor y puerto \n",
    "        server = smtplib.SMTP('smtp.office365.com', port=587) \n",
    "\n",
    "        # Identificar este cliente en el servidor \n",
    "        server.ehlo() \n",
    "\n",
    "        # iniciar conexion del servidor SMTP\n",
    "        server.starttls() \n",
    "\n",
    "        # Iniciar sesion con el correo electronico\n",
    "        server.login(correo_remitente, contrasena_correo) \n",
    "\n",
    "        # se envia el mensaje por correo \n",
    "        server.send_message(mensaje) \n",
    "\n",
    "        # se cierra la conexion del servidor \n",
    "        server.quit()\n",
    "\n",
    "        print('Correo electronico enviado con exito')\n",
    "        \n",
    "    except smtplib.SMTPException as e:\n",
    "        print ('Error al intentar enviar el correo electronico, cuasa del error: ', e)\n",
    "\n",
    "if bool(palabra) == False:\n",
    "    asunto_correo = \"Publicaciones del Diario Oficial de la Federación\" \n",
    "    #correo_receptor = \"frester_dui98@hotmail.com\" \n",
    "    correo_remitente = \"jnahuat@nasa.com.mx\" \n",
    "    correo_receptor = \"frester_dui98@hotmail.com\"\n",
    "    email_smtp = \"smtp.office365.com\" \n",
    "    contrasena_correo = \"stckrhhmhjxfqwgl\" #contraseña aplicacion Nasa\n",
    "    #email_password = \"poykyzptkdiihjhe\" #contraseña aplicacion hotmail frester\n",
    " \n",
    "\n",
    "    \n",
    "    mensaje = EmailMessage() \n",
    "\n",
    "    # Configuracion de los titulos\n",
    "    mensaje['Subject'] = asunto_correo \n",
    "    mensaje['From'] = correo_remitente \n",
    "    mensaje['To'] = correo_receptor\n",
    "\n",
    "    # Mensaje que se le envia al correo\n",
    "    mensaje.set_content(\"No se ha encontrado publicación nueva referente al articulo 69-B\") \n",
    "\n",
    "    try:\n",
    "        # smtp servidor y puerto \n",
    "        server = smtplib.SMTP('smtp.office365.com', port=587) \n",
    "\n",
    "        # Identificar este cliente en el servidor \n",
    "        server.ehlo() \n",
    "\n",
    "        # iniciar conexion del servidor SMTP\n",
    "        server.starttls() \n",
    "\n",
    "        # Iniciar sesion con el correo electronico\n",
    "        server.login(correo_remitente, contrasena_correo) \n",
    "\n",
    "        # se envia el mensaje por correo \n",
    "        server.send_message(mensaje) \n",
    "\n",
    "        # se cierra la conexion del servidor \n",
    "        server.quit()\n",
    "\n",
    "        print('Correo electronico enviado con exito')\n",
    "\n",
    "    except smtplib.SMTPException as e:\n",
    "        print ('Error al intentar enviar el correo electronico, cuasa del error: ', e)"
   ]
  },
  {
   "cell_type": "code",
   "execution_count": 20,
   "metadata": {},
   "outputs": [
    {
     "name": "stdout",
     "output_type": "stream",
     "text": [
      "Conexión exitosa\n"
     ]
    }
   ],
   "source": [
    "#Conexión del programa con la base de datos\n",
    "import mysql.connector\n",
    "\n",
    "try:\n",
    "    connection=mysql.connector.connect(\n",
    "        host='localhost',\n",
    "        port='3306',\n",
    "        user='root',\n",
    "        db='scraper'\n",
    "    )\n",
    "\n",
    "    if connection.is_connected():\n",
    "        print('Conexión exitosa')\n",
    "\n",
    "except Exception as ex:\n",
    "    print(ex)"
   ]
  },
  {
   "cell_type": "code",
   "execution_count": 21,
   "metadata": {},
   "outputs": [
    {
     "name": "stdout",
     "output_type": "stream",
     "text": [
      "Conectado a la base de datos: ('scraper',)\n"
     ]
    }
   ],
   "source": [
    "#Comprobación de conexión a la base de datos\n",
    "cursor = connection.cursor()\n",
    "cursor.execute('SELECT DATABASE()')\n",
    "row = cursor.fetchone()\n",
    "print('Conectado a la base de datos: {}'.format(row))"
   ]
  },
  {
   "cell_type": "code",
   "execution_count": 22,
   "metadata": {},
   "outputs": [
    {
     "name": "stdout",
     "output_type": "stream",
     "text": [
      "2022-10-10 17:27:55.955607\n"
     ]
    }
   ],
   "source": [
    "#Obtener fecha actual\n",
    "from datetime import datetime\n",
    "\n",
    "today = datetime.now()\n",
    "print(today)\n"
   ]
  },
  {
   "cell_type": "code",
   "execution_count": 23,
   "metadata": {},
   "outputs": [
    {
     "name": "stdout",
     "output_type": "stream",
     "text": [
      "(1, '69-B', datetime.datetime(2022, 10, 4, 11, 8, 23))\n",
      "(2, '69-B', datetime.datetime(2022, 10, 4, 11, 8, 23))\n",
      "(3, 'https://www.dof.gob.mx/nota_detalle.php?codigo=5665409&fecha=26/09/2022', datetime.datetime(2022, 10, 6, 13, 2, 12))\n",
      "(4, 'https://www.dof.gob.mx/nota_detalle.php?codigo=5665409&fecha=26/09/2022', datetime.datetime(2022, 10, 6, 13, 2, 12))\n",
      "(5, 'https://www.dof.gob.mx/nota_detalle.php?codigo=5667636&fecha=10/10/2022', datetime.datetime(2022, 10, 10, 16, 37, 12))\n",
      "(6, 'https://www.dof.gob.mx/nota_detalle.php?codigo=5667636&fecha=10/10/2022', datetime.datetime(2022, 10, 10, 16, 37, 12))\n",
      "(7, 'https://www.dof.gob.mx/nota_detalle.php?codigo=5667636&fecha=10/10/2022', datetime.datetime(2022, 10, 10, 17, 27, 56))\n",
      "(8, 'https://www.dof.gob.mx/nota_detalle.php?codigo=5667636&fecha=10/10/2022', datetime.datetime(2022, 10, 10, 17, 27, 56))\n"
     ]
    }
   ],
   "source": [
    "#Insercion de valores en la base de datos\n",
    "for ciclo in range(conteo):\n",
    "    cursor.execute(\"INSERT INTO `extraccion` (`id`, `link`, `fecha`) VALUES (NULL,%(liga)s, %(fecha_actual)s)\",{\"liga\":cal,\"fecha_actual\":today})\n",
    "\n",
    "#Consulta de datos\n",
    "cursor.execute(\"SELECT * FROM `extraccion`\")\n",
    "valores = cursor.fetchall()\n",
    "\n",
    "#Impresión de datos\n",
    "for fila in valores:\n",
    "    print(fila)\n",
    "    \n",
    "#Envío de los valores a la base de datos\n",
    "connection.commit()"
   ]
  },
  {
   "cell_type": "code",
   "execution_count": 24,
   "metadata": {},
   "outputs": [
    {
     "name": "stdout",
     "output_type": "stream",
     "text": [
      "Conexión cerrada exitosamente\n"
     ]
    }
   ],
   "source": [
    "#Cerrar la conexión\n",
    "connection.close()\n",
    "print('Conexión cerrada exitosamente')\n"
   ]
  }
 ],
 "metadata": {
  "kernelspec": {
   "display_name": "Python 3.10.1 64-bit",
   "language": "python",
   "name": "python3"
  },
  "language_info": {
   "codemirror_mode": {
    "name": "ipython",
    "version": 3
   },
   "file_extension": ".py",
   "mimetype": "text/x-python",
   "name": "python",
   "nbconvert_exporter": "python",
   "pygments_lexer": "ipython3",
   "version": "3.10.1"
  },
  "orig_nbformat": 4,
  "vscode": {
   "interpreter": {
    "hash": "b7fa4680f5fc3fefbaaa5c79f8e6a1b6da0e4a881b17ae7721395e4b267af9ba"
   }
  }
 },
 "nbformat": 4,
 "nbformat_minor": 2
}
