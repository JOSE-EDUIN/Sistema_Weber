{
 "cells": [
  {
   "cell_type": "code",
   "execution_count": 1,
   "metadata": {},
   "outputs": [],
   "source": [
    "#Establecer conexion con la página\n",
    "import urllib.request\n",
    "#Leer y decodificar la página\n",
    "# datos = urllib.request.urlopen('https://www.dof.gob.mx/#gsc.tab=0').read().decode()\n",
    "datos = urllib.request.urlopen('https://www.dof.gob.mx/index_111.php?year=2022&month=08&day=30#gsc.tab=0').read().decode()\n",
    "# datos = urllib.request.urlopen('https://www.dof.gob.mx/index_111.php?year=2022&month=10&day=10#gsc.tab=0').read().decode()\n"
   ]
  },
  {
   "cell_type": "code",
   "execution_count": 2,
   "metadata": {},
   "outputs": [
    {
     "name": "stdout",
     "output_type": "stream",
     "text": [
      "Conexión exitosa\n"
     ]
    }
   ],
   "source": [
    "#Conexión del programa con la base de datos\n",
    "import mysql.connector\n",
    "\n",
    "try:\n",
    "    connection=mysql.connector.connect(\n",
    "        host='localhost',\n",
    "        port='3306',\n",
    "        user='root',\n",
    "        db='scraper'\n",
    "    )\n",
    "\n",
    "    if connection.is_connected():\n",
    "        print('Conexión exitosa')\n",
    "\n",
    "except Exception as ex:\n",
    "    print(ex)"
   ]
  },
  {
   "cell_type": "code",
   "execution_count": 3,
   "metadata": {},
   "outputs": [
    {
     "name": "stdout",
     "output_type": "stream",
     "text": [
      "Conectado a la base de datos: ('scraper',)\n"
     ]
    }
   ],
   "source": [
    "#Comprobación de conexión a la base de datos\n",
    "cursor = connection.cursor()\n",
    "cursor.execute('SELECT DATABASE()')\n",
    "row = cursor.fetchone()\n",
    "print('Conectado a la base de datos: {}'.format(row))"
   ]
  },
  {
   "cell_type": "code",
   "execution_count": null,
   "metadata": {},
   "outputs": [],
   "source": [
    "datos"
   ]
  },
  {
   "cell_type": "code",
   "execution_count": null,
   "metadata": {},
   "outputs": [],
   "source": [
    "#Instalar libreria\n",
    "# import sys\n",
    "# !{sys.executable} -m pip install mysql-connector-python==8.0.29\n",
    "\n",
    "#librerias: requests, bs4, mysql-connector-python, lxml"
   ]
  },
  {
   "cell_type": "code",
   "execution_count": 4,
   "metadata": {},
   "outputs": [
    {
     "name": "stdout",
     "output_type": "stream",
     "text": [
      "['69-B', '69-B']\n"
     ]
    }
   ],
   "source": [
    "#Transformamos todo el HTML en un objeto de Beautiful Soap\n",
    "from msilib.schema import Property\n",
    "from bs4 import BeautifulSoup\n",
    "import re \n",
    "\n",
    "soup = BeautifulSoup(datos, 'lxml')\n",
    "#Búsqueda de todas las etiquetas tr\n",
    "box = soup.find('tr',id=\"trcontent\")\n",
    "#Búsqueda de las etiquetas a\n",
    "resultado = box.find_all('a',class_='enlaces')\n",
    "#Búsqueda de la palabra clave\n",
    "palabra = re.findall(r'69-B', str(resultado))\n",
    "print(palabra)\n",
    "\n",
    "\n",
    "#Contar elementos\n",
    "transforma = \", \".join(map(str, palabra))\n",
    "conteo = len(transforma.split())\n",
    "#print(\"Hay \" + str(conteo) + \" palabras encontradas.\")\n"
   ]
  },
  {
   "cell_type": "code",
   "execution_count": 5,
   "metadata": {},
   "outputs": [
    {
     "name": "stdout",
     "output_type": "stream",
     "text": [
      "[[['/nota_detalle.php?codigo=5662832&fecha=30/08/2022', '']], [['/nota_detalle.php?codigo=5662833&fecha=30/08/2022', '']]]\n"
     ]
    }
   ],
   "source": [
    "\n",
    "#Recupera todos los link de las publicaciones y las almacena en una lista -links[]\n",
    "lst_links =[]\n",
    "for ref in resultado:\n",
    "      tag=ref.get('href')+'\\n'\n",
    "      transforma=\"\".join(map(str, tag))\n",
    "      link=[transforma.split('\\n')]\n",
    "      lst_links.append(link)\n",
    "      \n",
    "\n",
    "#Resguarda especialmente los links en donde se encuentre la palabra 69-B en una lista -lst_69B[]\n",
    "lst_69B =[]\n",
    "x=0\n",
    "for Pos_info in resultado:\n",
    "    \n",
    "    encuentra = re.findall(r'69-B', str(Pos_info))\n",
    "    if bool(encuentra)==True:\n",
    "        #print(encuentra)\n",
    "        #print(resultado[x])\n",
    "        #print(links[x])\n",
    "        PosLink = lst_links[x]\n",
    "        lst_69B.append(PosLink)\n",
    "    \n",
    "    x+=1\n",
    "print (lst_69B)\n",
    "\n"
   ]
  },
  {
   "cell_type": "code",
   "execution_count": 6,
   "metadata": {},
   "outputs": [
    {
     "name": "stdout",
     "output_type": "stream",
     "text": [
      "https://www.dof.gob.mx/nota_detalle.php?codigo=5662832&fecha=30/08/2022\n",
      "https://www.dof.gob.mx/nota_detalle.php?codigo=5662833&fecha=30/08/2022\n"
     ]
    }
   ],
   "source": [
    "#Elimina carcateres innecesarios de los links y las concatena con el dominio de la pagina \n",
    "lst_link_dominio=[]\n",
    "for Textlink in lst_69B:\n",
    "  cadena = Textlink[0]\n",
    "  characters = \"[]'\"\n",
    "\n",
    "  cadena = ''.join( x for x in cadena if x not in characters)\n",
    "  cal='https://www.dof.gob.mx'+cadena\n",
    "  lst_link_dominio.append(cal)\n",
    "  print(cal)\n",
    "\n",
    "# print(lst_link_dominio)\n"
   ]
  },
  {
   "cell_type": "code",
   "execution_count": 7,
   "metadata": {},
   "outputs": [
    {
     "name": "stdout",
     "output_type": "stream",
     "text": [
      "2022-11-07 18:03:16.829917\n"
     ]
    }
   ],
   "source": [
    "#Obtener fecha actual\n",
    "from datetime import datetime\n",
    "\n",
    "today = datetime.now()\n",
    "print(today)"
   ]
  },
  {
   "cell_type": "code",
   "execution_count": 8,
   "metadata": {},
   "outputs": [
    {
     "name": "stdout",
     "output_type": "stream",
     "text": [
      "Links en la base de datos: [(1, 'https://www.dof.gob.mx/nota_detalle.php?codigo=5662832&fecha=30/08/2022', datetime.datetime(2022, 11, 2, 10, 20, 59))]\n",
      "Links en la base de datos: [(2, 'https://www.dof.gob.mx/nota_detalle.php?codigo=5662833&fecha=30/08/2022', datetime.datetime(2022, 11, 2, 10, 20, 59))]\n",
      "No hay publicacion nueva\n",
      "[]\n"
     ]
    }
   ],
   "source": [
    "# Validar si la publiacion es nueva o ya ha sido almacenada en la base de datos\n",
    "cont_link_dominio = 0\n",
    "lst_nva_pub=[]\n",
    "for ciclo in range(conteo):\n",
    "    cursor.execute(\"SELECT * FROM `extraccion` WHERE link = %s;\", (lst_link_dominio[cont_link_dominio],))\n",
    "    valores = cursor.fetchall()\n",
    "    print (f\"Links en la base de datos: {valores}\")\n",
    "    # print(lst_link_dominio[cont_link_dominio])\n",
    "    # Si no encuentra coincidencia del link en la base de datos se considera nueva y se almacena en una nueva lista\n",
    "    if bool(valores) == False:\n",
    "       lst_nva_pub.append(lst_link_dominio[cont_link_dominio])\n",
    "       \n",
    "\n",
    "    cont_link_dominio+=1\n",
    "# print (cont_link_dominio)\n",
    "\n",
    "#Insercion de valores en la base de datos\n",
    "cont_lig = 0\n",
    "for ciclo in lst_nva_pub:\n",
    "    cursor.execute(\"INSERT INTO `extraccion` (`id`, `link`, `fecha`) VALUES (NULL,%(liga)s, %(fecha_actual)s)\",{\"liga\":lst_nva_pub[cont_lig],\"fecha_actual\":today})\n",
    "    cont_lig+=1\n",
    "\n",
    "# compobacion de si ya existe el link en la base de datos\n",
    "if bool(lst_nva_pub) == True:\n",
    "    print (\"Hay publicacion nueva\")\n",
    "    print(lst_nva_pub)\n",
    "\n",
    "if bool(lst_nva_pub) == False:\n",
    "    print (\"No hay publicacion nueva\")\n",
    "    print(lst_nva_pub)\n"
   ]
  },
  {
   "cell_type": "code",
   "execution_count": 9,
   "metadata": {},
   "outputs": [
    {
     "name": "stdout",
     "output_type": "stream",
     "text": [
      "https://www.dof.gob.mx/nota_detalle.php?codigo=5662832&fecha=30/08/2022, https://www.dof.gob.mx/nota_detalle.php?codigo=5662833&fecha=30/08/2022\n"
     ]
    }
   ],
   "source": [
    "# Convertimos la lista de los links nuevos en cadena de texto\n",
    "str_pubs_nva = \", \".join(lst_nva_pub)\n",
    "print(str_pubs_nva)"
   ]
  },
  {
   "cell_type": "code",
   "execution_count": 9,
   "metadata": {},
   "outputs": [
    {
     "name": "stdout",
     "output_type": "stream",
     "text": [
      "Correo electronico enviado con exito\n"
     ]
    }
   ],
   "source": [
    "#importamos para envios de correos \n",
    "import smtplib \n",
    "from email.message import EmailMessage \n",
    "\n",
    "if bool(lst_nva_pub) == True:\n",
    "    asunto_correo = \"Publicaciones del Diario Oficial de la Federación\" \n",
    "    #correo_receptor = \"frester_dui98@hotmail.com\" \n",
    "    correo_remitente = \"jnahuat@nasa.com.mx\" \n",
    "    correo_receptor = \"frester_dui98@hotmail.com\"\n",
    "    email_smtp = \"smtp.office365.com\" \n",
    "    contrasena_correo = \"stckrhhmhjxfqwgl\" #contraseña aplicacion Nasa\n",
    "    #email_password = \"poykyzptkdiihjhe\" #contraseña aplicacion hotmail frester\n",
    " \n",
    "\n",
    "    \n",
    "    mensaje = EmailMessage() \n",
    "\n",
    "    # Configuracion de los titulos \n",
    "    mensaje['Subject'] = asunto_correo \n",
    "    mensaje['From'] = correo_remitente \n",
    "    mensaje['To'] = correo_receptor\n",
    "\n",
    "    # Mensaje de texto que se enviará\n",
    "    mensaje.set_content(\"Se ha identificado una nueva publicación referente al artículo 69-B: \\n\"+str_pubs_nva) \n",
    "\n",
    "    try:\n",
    "        # smtp servidor y puerto \n",
    "        server = smtplib.SMTP('smtp.office365.com', port=587) \n",
    "\n",
    "        # Identificar este cliente en el servidor \n",
    "        server.ehlo() \n",
    "\n",
    "        # iniciar conexion del servidor SMTP\n",
    "        server.starttls() \n",
    "\n",
    "        # Iniciar sesion con el correo electronico\n",
    "        server.login(correo_remitente, contrasena_correo) \n",
    "\n",
    "        # se envia el mensaje por correo \n",
    "        server.send_message(mensaje) \n",
    "\n",
    "        # se cierra la conexion del servidor \n",
    "        server.quit()\n",
    "\n",
    "        print('Correo electronico enviado con exito')\n",
    "        \n",
    "    except smtplib.SMTPException as e:\n",
    "        print ('Error al intentar enviar el correo electronico, cuasa del error: ', e)\n",
    "\n",
    "if bool(lst_nva_pub) == False:\n",
    "    asunto_correo = \"Publicaciones del Diario Oficial de la Federación\" \n",
    "    #correo_receptor = \"frester_dui98@hotmail.com\" \n",
    "    correo_remitente = \"jnahuat@nasa.com.mx\" \n",
    "    correo_receptor = \"frester_dui98@hotmail.com\"\n",
    "    email_smtp = \"smtp.office365.com\" \n",
    "    contrasena_correo = \"stckrhhmhjxfqwgl\" #contraseña aplicacion Nasa\n",
    "    #email_password = \"poykyzptkdiihjhe\" #contraseña aplicacion hotmail frester\n",
    " \n",
    "\n",
    "    \n",
    "    mensaje = EmailMessage() \n",
    "\n",
    "    # Configuracion de los titulos\n",
    "    mensaje['Subject'] = asunto_correo \n",
    "    mensaje['From'] = correo_remitente \n",
    "    mensaje['To'] = correo_receptor\n",
    "\n",
    "    # Mensaje que se le envia al correo\n",
    "    mensaje.set_content(\"No se ha encontrado publicación nueva referente al articulo 69-B\") \n",
    "\n",
    "    try:\n",
    "        # smtp servidor y puerto \n",
    "        server = smtplib.SMTP('smtp.office365.com', port=587) \n",
    "\n",
    "        # Identificar este cliente en el servidor \n",
    "        server.ehlo() \n",
    "\n",
    "        # iniciar conexion del servidor SMTP\n",
    "        server.starttls() \n",
    "\n",
    "        # Iniciar sesion con el correo electronico\n",
    "        server.login(correo_remitente, contrasena_correo) \n",
    "\n",
    "        # se envia el mensaje por correo \n",
    "        server.send_message(mensaje) \n",
    "\n",
    "        # se cierra la conexion del servidor \n",
    "        server.quit()\n",
    "\n",
    "        print('Correo electronico enviado con exito')\n",
    "\n",
    "    except smtplib.SMTPException as e:\n",
    "        print ('Error al intentar enviar el correo electronico, cuasa del error: ', e)"
   ]
  },
  {
   "cell_type": "code",
   "execution_count": 10,
   "metadata": {},
   "outputs": [
    {
     "name": "stdout",
     "output_type": "stream",
     "text": [
      "2022-10-19 21:50:21.933146\n"
     ]
    }
   ],
   "source": [
    "#Obtener fecha actual\n",
    "# from datetime import datetime\n",
    "\n",
    "# today = datetime.now()\n",
    "# print(today)\n"
   ]
  },
  {
   "cell_type": "code",
   "execution_count": 11,
   "metadata": {},
   "outputs": [],
   "source": [
    "#Insercion de valores en la base de datos\n",
    "# cont_lig = 0\n",
    "# for ciclo in lst_nva_pub:\n",
    "#     cursor.execute(\"INSERT INTO `extraccion` (`id`, `link`, `fecha`) VALUES (NULL,%(liga)s, %(fecha_actual)s)\",{\"liga\":lst_nva_pub[cont_lig],\"fecha_actual\":today})\n",
    "#     cont_lig+=1"
   ]
  },
  {
   "cell_type": "code",
   "execution_count": 10,
   "metadata": {},
   "outputs": [
    {
     "name": "stdout",
     "output_type": "stream",
     "text": [
      "(1, 'https://www.dof.gob.mx/nota_detalle.php?codigo=5662832&fecha=30/08/2022', datetime.datetime(2022, 11, 2, 10, 20, 59))\n",
      "(2, 'https://www.dof.gob.mx/nota_detalle.php?codigo=5662833&fecha=30/08/2022', datetime.datetime(2022, 11, 2, 10, 20, 59))\n"
     ]
    }
   ],
   "source": [
    "#Consulta de datos\n",
    "cursor.execute(\"SELECT * FROM `extraccion`\")\n",
    "valores = cursor.fetchall()\n",
    "\n",
    "#Impresión de datos\n",
    "for fila in valores:\n",
    "    print(fila)\n",
    "    \n",
    "#Envío de los valores a la base de datos\n",
    "connection.commit()"
   ]
  },
  {
   "cell_type": "code",
   "execution_count": 11,
   "metadata": {},
   "outputs": [
    {
     "name": "stdout",
     "output_type": "stream",
     "text": [
      "Conexión cerrada exitosamente\n"
     ]
    }
   ],
   "source": [
    "#Cerrar la conexión\n",
    "connection.close()\n",
    "print('Conexión cerrada exitosamente')\n"
   ]
  }
 ],
 "metadata": {
  "kernelspec": {
   "display_name": "Python 3.10.1 64-bit",
   "language": "python",
   "name": "python3"
  },
  "language_info": {
   "codemirror_mode": {
    "name": "ipython",
    "version": 3
   },
   "file_extension": ".py",
   "mimetype": "text/x-python",
   "name": "python",
   "nbconvert_exporter": "python",
   "pygments_lexer": "ipython3",
   "version": "3.10.1"
  },
  "orig_nbformat": 4,
  "vscode": {
   "interpreter": {
    "hash": "b7fa4680f5fc3fefbaaa5c79f8e6a1b6da0e4a881b17ae7721395e4b267af9ba"
   }
  }
 },
 "nbformat": 4,
 "nbformat_minor": 2
}
