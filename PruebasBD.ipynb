{
 "cells": [
  {
   "cell_type": "code",
   "execution_count": 3,
   "metadata": {},
   "outputs": [
    {
     "name": "stdout",
     "output_type": "stream",
     "text": [
      "Conexión exitosa\n"
     ]
    }
   ],
   "source": [
    "#Conexión del programa con la base de datos\n",
    "import mysql.connector\n",
    "\n",
    "try:\n",
    "    connection=mysql.connector.connect(\n",
    "        host='localhost',\n",
    "        port='3306',\n",
    "        user='root',\n",
    "        db='scraper'\n",
    "    )\n",
    "\n",
    "    if connection.is_connected():\n",
    "        print('Conexión exitosa')\n",
    "\n",
    "except Exception as ex:\n",
    "    print(ex)"
   ]
  },
  {
   "cell_type": "code",
   "execution_count": 4,
   "metadata": {},
   "outputs": [
    {
     "name": "stdout",
     "output_type": "stream",
     "text": [
      "Conectado a la base de datos: ('scraper',)\n",
      "['https://www.dof.gob.mx/nota_detalle.php?codigo=5667733&fecha=11/10/2022']\n"
     ]
    }
   ],
   "source": [
    "#Comprobación de conexión a la base de datos\n",
    "cursor = connection.cursor()\n",
    "cursor.execute('SELECT DATABASE()')\n",
    "row = cursor.fetchone()\n",
    "print('Conectado a la base de datos: {}'.format(row))\n",
    "\n",
    "lst=['https://www.dof.gob.mx/nota_detalle.php?codigo=5667733&fecha=11/10/2022']\n",
    "print(lst)"
   ]
  },
  {
   "cell_type": "code",
   "execution_count": 5,
   "metadata": {},
   "outputs": [
    {
     "name": "stdout",
     "output_type": "stream",
     "text": [
      "No hay nueva publicación\n"
     ]
    }
   ],
   "source": [
    "#Consulta de datos\n",
    "\n",
    "cursor.execute(\"SELECT * FROM `extraccion` WHERE link = %s;\", (lst[0],))\n",
    "valores = cursor.fetchall()\n",
    "\n",
    "if bool(valores) == True:\n",
    "    print (\"No hay nueva publicación\")\n",
    "\n",
    "if bool(valores) == False:\n",
    "    print (\"Hay publicacion nueva nueva publicación\")\n"
   ]
  },
  {
   "cell_type": "code",
   "execution_count": null,
   "metadata": {},
   "outputs": [],
   "source": [
    "#Cerrar la conexión\n",
    "connection.close()\n",
    "print('Conexión cerrada exitosamente')"
   ]
  }
 ],
 "metadata": {
  "kernelspec": {
   "display_name": "Python 3.10.1 64-bit",
   "language": "python",
   "name": "python3"
  },
  "language_info": {
   "codemirror_mode": {
    "name": "ipython",
    "version": 3
   },
   "file_extension": ".py",
   "mimetype": "text/x-python",
   "name": "python",
   "nbconvert_exporter": "python",
   "pygments_lexer": "ipython3",
   "version": "3.10.1"
  },
  "orig_nbformat": 4,
  "vscode": {
   "interpreter": {
    "hash": "b7fa4680f5fc3fefbaaa5c79f8e6a1b6da0e4a881b17ae7721395e4b267af9ba"
   }
  }
 },
 "nbformat": 4,
 "nbformat_minor": 2
}
